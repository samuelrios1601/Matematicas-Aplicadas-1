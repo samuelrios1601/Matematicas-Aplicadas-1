{
  "nbformat": 4,
  "nbformat_minor": 0,
  "metadata": {
    "colab": {
      "provenance": [],
      "name": "Taller_20/02_RiosSammuelA00411897",
      "authorship_tag": "ABX9TyP/iobCdIElqG3854IUZkZL",
      "include_colab_link": true
    },
    "kernelspec": {
      "name": "python3",
      "display_name": "Python 3"
    },
    "language_info": {
      "name": "python"
    }
  },
  "cells": [
    {
      "cell_type": "markdown",
      "metadata": {
        "id": "view-in-github",
        "colab_type": "text"
      },
      "source": [
        "<a href=\"https://colab.research.google.com/github/samuelrios1601/Matematicas-Aplicadas-1/blob/main/Taller_20_02_RiosSammuelA00411897.ipynb\" target=\"_parent\"><img src=\"https://colab.research.google.com/assets/colab-badge.svg\" alt=\"Open In Colab\"/></a>"
      ]
    },
    {
      "cell_type": "code",
      "execution_count": null,
      "metadata": {
        "id": "Qd2S4cRfSBA2",
        "colab": {
          "base_uri": "https://localhost:8080/"
        },
        "outputId": "30799605-ce8d-4d21-99f5-a8f2065f4dc6"
      },
      "outputs": [
        {
          "output_type": "stream",
          "name": "stdout",
          "text": [
            "2\n",
            "4\n",
            "5\n"
          ]
        }
      ],
      "source": [
        "# 2\n",
        "l1 = [1, 2, 3, 4, 5]\n",
        "l2 = [2, 33, 4, 6, 5]\n",
        "for i in l1:\n",
        "  for j in l2:\n",
        "    if i == j:\n",
        "      print(i)\n"
      ]
    },
    {
      "cell_type": "code",
      "source": [],
      "metadata": {
        "id": "ugduI0RAVCwc"
      },
      "execution_count": null,
      "outputs": []
    }
  ]
}