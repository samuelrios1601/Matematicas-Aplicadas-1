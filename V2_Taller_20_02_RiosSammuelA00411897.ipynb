{
  "nbformat": 4,
  "nbformat_minor": 0,
  "metadata": {
    "colab": {
      "provenance": [],
      "name": "Taller_20/02_RiosSammuelA00411897",
      "authorship_tag": "ABX9TyNAdX9ulnpR8g6C90age19x",
      "include_colab_link": true
    },
    "kernelspec": {
      "name": "python3",
      "display_name": "Python 3"
    },
    "language_info": {
      "name": "python"
    }
  },
  "cells": [
    {
      "cell_type": "markdown",
      "metadata": {
        "id": "view-in-github",
        "colab_type": "text"
      },
      "source": [
        "<a href=\"https://colab.research.google.com/github/samuelrios1601/Matematicas-Aplicadas-1/blob/main/V2_Taller_20_02_RiosSammuelA00411897.ipynb\" target=\"_parent\"><img src=\"https://colab.research.google.com/assets/colab-badge.svg\" alt=\"Open In Colab\"/></a>"
      ]
    },
    {
      "cell_type": "code",
      "execution_count": 1,
      "metadata": {
        "id": "Qd2S4cRfSBA2",
        "colab": {
          "base_uri": "https://localhost:8080/"
        },
        "outputId": "ea4157e0-e3b0-43ba-e89e-596b34ea147e"
      },
      "outputs": [
        {
          "output_type": "stream",
          "name": "stdout",
          "text": [
            "2\n",
            "4\n",
            "5\n"
          ]
        }
      ],
      "source": [
        "# 2\n",
        "l1 = [1, 2, 3, 4, 5]\n",
        "l2 = [2, 33, 4, 6, 5]\n",
        "for i in l1:\n",
        "  for j in l2:\n",
        "    if i == j:\n",
        "      print(i)\n"
      ]
    },
    {
      "cell_type": "code",
      "source": [
        "#6.\n",
        "\n",
        "def controlDelInventario (inventario, vendidos):\n",
        "\n",
        "  inventarioRestante = inventario[:]\n",
        "\n",
        "  for producto in vendidos:\n",
        "\n",
        "    if producto in inventario:\n",
        "\n",
        "      inventarioRestante.remove(producto)\n",
        "\n",
        "  return inventarioRestante\n",
        "\n",
        "inventario = [\"bananos\", \"peras\", \"manzanas\", \"papaya\", \"granadillas\"]\n",
        "vendidos = [\"bananos\", \"peras\", \"granadillas\"]\n",
        "\n",
        "inventarioActualizado = controlDelInventario(inventario, vendidos)\n",
        "print(inventarioActualizado)"
      ],
      "metadata": {
        "id": "ugduI0RAVCwc",
        "colab": {
          "base_uri": "https://localhost:8080/"
        },
        "outputId": "7840462b-2ff4-46d0-dbf0-4d81daea1d45"
      },
      "execution_count": null,
      "outputs": [
        {
          "output_type": "stream",
          "name": "stdout",
          "text": [
            "['manzanas', 'papaya']\n"
          ]
        }
      ]
    },
    {
      "cell_type": "code",
      "source": [
        "#7.\n",
        "\n",
        "def registro_temperaturas(temperaturas):\n",
        "  dias_arriba_30 = 0\n",
        "  dias_entre_20_y_30 = 0\n",
        "  dias_abajo_20 = 0\n",
        "\n",
        "  for temperatura in temperaturas:\n",
        "    if temperatura > 30:\n",
        "        dias_arriba_30 += 1\n",
        "\n",
        "    elif 20 <= temperatura <= 30:\n",
        "          dias_entre_20_y_30 += 1\n",
        "\n",
        "    else:\n",
        "      dias_abajo_20 += 1\n",
        "\n",
        "  return dias_arriba_30, dias_entre_20_y_30, dias_abajo_20\n",
        "\n",
        "\n",
        "temperaturas = [11, 34, 25, 39, 24, 46, 37, 31]\n",
        "final = registro_temperaturas(temperaturas)\n",
        "print(f\"temperaturas por encima de 30: {final[0]}\")\n",
        "print(f\"temperaturas entre 20 y 30: {final[1]}\")\n",
        "print(f\"temperaturas por debajo de 20: {final[2]}\")\n",
        "\n"
      ],
      "metadata": {
        "colab": {
          "base_uri": "https://localhost:8080/"
        },
        "id": "e3ui_NdBGdmP",
        "outputId": "111ceb49-6e14-4770-c12c-df9fe417890d"
      },
      "execution_count": null,
      "outputs": [
        {
          "output_type": "stream",
          "name": "stdout",
          "text": [
            "temperaturas por encima de 30: 5\n",
            "temperaturas entre 20 y 30: 2\n",
            "temperaturas por debajo de 20: 1\n"
          ]
        }
      ]
    },
    {
      "cell_type": "code",
      "source": [
        "#8.\n",
        "\n",
        "def calorias_consumidas(alimentos, calorias):\n",
        "  total_calorias = sum(calorias)\n",
        "\n",
        "  if total_calorias > 2000:\n",
        "    return f\"las calorias consumidas en total son: {total_calorias}, esta cantidad supera lo recomendado que son max 2000\"\n",
        "\n",
        "  else:\n",
        "    return f\"las calorias consumidas en total son: {total_calorias}, esta cantidad enta dentro del limite recomendado que son max 2000\"\n",
        "\n",
        "alimentos = [\"hamburguesa\", \"papas fritas\", \"ensalada\", \"pizza\"]\n",
        "calorias = [2000, 300, 200, 500]\n",
        "\n",
        "print(calorias_consumidas(alimentos, calorias))"
      ],
      "metadata": {
        "colab": {
          "base_uri": "https://localhost:8080/"
        },
        "id": "Jz7AmK7_M5gt",
        "outputId": "10de5ac7-c51b-4d98-dffd-163888278956"
      },
      "execution_count": null,
      "outputs": [
        {
          "output_type": "stream",
          "name": "stdout",
          "text": [
            "las calorias consumidas en total son: 3000, esta cantidad supera lo recomendado que son max 2000\n"
          ]
        }
      ]
    },
    {
      "cell_type": "code",
      "source": [
        "#12.\n",
        "\n",
        "def calcular_gastos(gastos):\n",
        "\n",
        "  total = sum(gastos.values()) #value: da una vista a todos los valores en gastos\n",
        "  categoria_de_mayor_gastos = max(gastos, key=gastos.get) #key: una variable definica que hace alusion a la llave para acceder a algo mas\n",
        "  mayor_gastos = gastos[categoria_de_mayor_gastos]\n",
        "\n",
        "  return total, categoria_de_mayor_gastos, mayor_gastos\n",
        "\n",
        "gastos_del_mes = {\n",
        "    \"alquiler\" : 1000,\n",
        "    \"servicios\" : 2000,\n",
        "    \"comida\" : 3000,\n",
        "    \"gas\" : 4000\n",
        "\n",
        "}\n",
        "\n",
        "total, mayor_categoria, mayor_gastos = calcular_gastos(gastos_del_mes)\n",
        "print(f\"el total de gastos del mes es: {total}\")\n",
        "print(f\"la categoria de mayor gasto es: {mayor_categoria}\")\n",
        "print(f\"el monto de mayor gasto es: {mayor_gastos}\")\n",
        "\n"
      ],
      "metadata": {
        "id": "g5YWMY8JbI0R",
        "outputId": "4e5b7dea-7dad-4cab-d7c2-adaf560f9ab1",
        "colab": {
          "base_uri": "https://localhost:8080/"
        }
      },
      "execution_count": 3,
      "outputs": [
        {
          "output_type": "stream",
          "name": "stdout",
          "text": [
            "el total de gastos del mes es: 10000\n",
            "la categoria de mayor gasto es: gas\n",
            "el monto de mayor gasto es: 4000\n"
          ]
        }
      ]
    }
  ]
}