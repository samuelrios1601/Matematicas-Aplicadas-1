{
  "nbformat": 4,
  "nbformat_minor": 0,
  "metadata": {
    "colab": {
      "provenance": [],
      "name": "Taller_20/02_RiosSammuelA00411897",
      "authorship_tag": "ABX9TyMYhrILJIGQoxlwQpI716lj",
      "include_colab_link": true
    },
    "kernelspec": {
      "name": "python3",
      "display_name": "Python 3"
    },
    "language_info": {
      "name": "python"
    }
  },
  "cells": [
    {
      "cell_type": "markdown",
      "metadata": {
        "id": "view-in-github",
        "colab_type": "text"
      },
      "source": [
        "<a href=\"https://colab.research.google.com/github/samuelrios1601/Matematicas-Aplicadas-1/blob/main/V2_Taller_20_02_RiosSammuelA00411897.ipynb\" target=\"_parent\"><img src=\"https://colab.research.google.com/assets/colab-badge.svg\" alt=\"Open In Colab\"/></a>"
      ]
    },
    {
      "cell_type": "code",
      "execution_count": 32,
      "metadata": {
        "id": "Qd2S4cRfSBA2",
        "colab": {
          "base_uri": "https://localhost:8080/"
        },
        "outputId": "b8df1e5c-12d5-4ae1-ae3d-82fd1ad6c00b"
      },
      "outputs": [
        {
          "output_type": "stream",
          "name": "stdout",
          "text": [
            "2\n",
            "4\n",
            "5\n"
          ]
        }
      ],
      "source": [
        "# 2\n",
        "l1 = [1, 2, 3, 4, 5]\n",
        "l2 = [2, 33, 4, 6, 5]\n",
        "for i in l1:\n",
        "  for j in l2:\n",
        "    if i == j:\n",
        "      print(i)\n"
      ]
    },
    {
      "cell_type": "code",
      "source": [
        "def controlDelInventario (inventario, vendidos):\n",
        "\n",
        "  inventarioRestante = inventario[:]\n",
        "\n",
        "  for producto in vendidos:\n",
        "\n",
        "    if producto in inventario:\n",
        "\n",
        "      inventarioRestante.remove(producto)\n",
        "\n",
        "  return inventarioRestante\n",
        "\n",
        "inventario = [\"bananos\", \"peras\", \"manzanas\", \"papaya\", \"granadillas\"]\n",
        "vendidos = [\"bananos\", \"peras\", \"granadillas\"]\n",
        "\n",
        "inventarioActualizado = controlDelInventario(inventario, vendidos)\n",
        "print(inventarioActualizado)"
      ],
      "metadata": {
        "id": "ugduI0RAVCwc",
        "colab": {
          "base_uri": "https://localhost:8080/"
        },
        "outputId": "7840462b-2ff4-46d0-dbf0-4d81daea1d45"
      },
      "execution_count": 34,
      "outputs": [
        {
          "output_type": "stream",
          "name": "stdout",
          "text": [
            "['manzanas', 'papaya']\n"
          ]
        }
      ]
    },
    {
      "cell_type": "code",
      "source": [
        "def registro_temperaturas(temperaturas):\n",
        "  dias_arriba_30 = 0\n",
        "  dias_entre_20_y_30 = 0\n",
        "  dias_abajo_20 = 0\n",
        "\n",
        "  for temperatura in temperaturas:\n",
        "    if temperatura > 30:\n",
        "        dias_arriba_30 += 1\n",
        "\n",
        "    elif 20 <= temperatura <= 30:\n",
        "          dias_entre_20_y_30 += 1\n",
        "\n",
        "    else:\n",
        "      dias_abajo_20 += 1\n",
        "\n",
        "  return dias_arriba_30, dias_entre_20_y_30, dias_abajo_20\n",
        "\n",
        "\n",
        "temperaturas = [11, 34, 25, 39, 24, 46, 37, 31]\n",
        "final = registro_temperaturas(temperaturas)\n",
        "print(f\"temperaturas por encima de 30: {final[0]}\")\n",
        "print(f\"temperaturas entre 20 y 30: {final[1]}\")\n",
        "print(f\"temperaturas por debajo de 20: {final[2]}\")\n",
        "\n"
      ],
      "metadata": {
        "colab": {
          "base_uri": "https://localhost:8080/"
        },
        "id": "e3ui_NdBGdmP",
        "outputId": "111ceb49-6e14-4770-c12c-df9fe417890d"
      },
      "execution_count": 46,
      "outputs": [
        {
          "output_type": "stream",
          "name": "stdout",
          "text": [
            "temperaturas por encima de 30: 5\n",
            "temperaturas entre 20 y 30: 2\n",
            "temperaturas por debajo de 20: 1\n"
          ]
        }
      ]
    },
    {
      "cell_type": "code",
      "source": [
        "def calorias_consumidas(alimentos, calorias):\n",
        "  total_calorias = sum(calorias)\n",
        "\n",
        "  if total_calorias > 2000:\n",
        "    return f\"las calorias consumidas en total son: {total_calorias}, esta cantidad supera lo recomendado que son max 2000\"\n",
        "\n",
        "  else:\n",
        "    return f\"las calorias consumidas en total son: {total_calorias}, esta cantidad enta dentro del limite recomendado que son max 2000\"\n",
        "\n",
        "alimentos = [\"hamburguesa\", \"papas fritas\", \"ensalada\", \"pizza\"]\n",
        "calorias = [2000, 300, 200, 500]\n",
        "\n",
        "print(calorias_consumidas(alimentos, calorias))"
      ],
      "metadata": {
        "colab": {
          "base_uri": "https://localhost:8080/"
        },
        "id": "Jz7AmK7_M5gt",
        "outputId": "10de5ac7-c51b-4d98-dffd-163888278956"
      },
      "execution_count": 48,
      "outputs": [
        {
          "output_type": "stream",
          "name": "stdout",
          "text": [
            "las calorias consumidas en total son: 3000, esta cantidad supera lo recomendado que son max 2000\n"
          ]
        }
      ]
    }
  ]
}