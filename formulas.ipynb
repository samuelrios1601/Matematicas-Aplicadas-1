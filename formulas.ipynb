{
  "nbformat": 4,
  "nbformat_minor": 0,
  "metadata": {
    "colab": {
      "provenance": [],
      "name": "formulas.ipynb",
      "authorship_tag": "ABX9TyPIbc4rDA0U/g9xezl1r/4e",
      "include_colab_link": true
    },
    "kernelspec": {
      "name": "python3",
      "display_name": "Python 3"
    },
    "language_info": {
      "name": "python"
    }
  },
  "cells": [
    {
      "cell_type": "markdown",
      "metadata": {
        "id": "view-in-github",
        "colab_type": "text"
      },
      "source": [
        "<a href=\"https://colab.research.google.com/github/samuelrios1601/Matematicas-Aplicadas-1/blob/main/formulas.ipynb\" target=\"_parent\"><img src=\"https://colab.research.google.com/assets/colab-badge.svg\" alt=\"Open In Colab\"/></a>"
      ]
    },
    {
      "cell_type": "markdown",
      "source": [
        "1. $c^2=a^2+b^2$\n",
        "\n",
        "\n",
        "2. $log xy = log x + log y $\n",
        "\n",
        "\n",
        "3. $\\frac{df}{dt}= \\displaystyle \\lim_{h\\to 0}=\\frac{f(t+h )-f(t)}{h}$\n",
        "\n",
        "\n",
        "4. $F = G\\frac{_{_m1 _m2}}{r^2}$\n",
        "\n",
        "\n",
        "5. $\\iota ^2 = -1$\n",
        "\n",
        "\n",
        "6. $V - E + F = 2$\n",
        "\n",
        "\n",
        "7. 7. $\\Phi (x)=\\frac{1}{\\sqrt{2\\mathbb{\\pi \\rho }}}\\textit{e}^\\frac{(x-\\mu)^2}{2\\rho ^2}$\n",
        "\n",
        "\n",
        "8. $\\frac{\\partial ^2u}{\\partial t^2} = c^2 \\frac{\\partial ^2u}{\\partial x^2}$\n",
        "\n",
        "\n",
        "9. $f(ω)=\\int_{\\infty}^{\\infty}f(x)e^{-2πixω}dx$\n",
        "\n",
        "\n",
        "10. $ \\rho (\\frac{\\partial \\textbf{v}}{\\partial \\textbf{t}} + \\textbf{v}\\cdot \\nabla \\textbf{v} ) = -\\nabla \\textbf{p}+ \\nabla\\cdot \\textbf{T} + \\textbf{f}$\n",
        "\n",
        "\n",
        "11. $\\nabla \\cdot  \\textbf{E} = 0; \\nabla \\chi \\textbf{E} = - \\frac{1}{c} \\frac{\\partial H}{\\partial t}; \\nabla \\cdot  \\textbf{H} = 0; \\nabla \\chi \\textbf{H} = \\frac{1}{c} \\frac{\\partial H}{\\partial t}$\n",
        "\n",
        "\n",
        "12. $dS\\geq 0$\n",
        "\n",
        "\n",
        "13. $E=mc^2$\n",
        "\n",
        "\n",
        "14. $\\textit{i}\\textit{h} \\frac{ \\partial}{ \\partial \\textit{t}} \\Psi = \\textit{H}\\Psi  $\n",
        "\n",
        "\n",
        "15. $H=-∑p(x) logp(x)$\n",
        "\n",
        "\n",
        "16. $x_{t+1}= kx_t (1-x_t)$\n",
        "\n",
        "\n",
        "17. $\\frac{1}{2}\\sigma^2 S^2 \\frac{ \\partial^2V}{ \\partial S^2} + rS \\frac{ \\partial V}{ \\partial S} + \\frac{ \\partial V}{ \\partial t} - rV = 0$\n",
        "\n",
        "\n"
      ],
      "metadata": {
        "id": "vsFQppxV1xps"
      }
    },
    {
      "cell_type": "markdown",
      "source": [],
      "metadata": {
        "id": "7NP7dl3v1dAD"
      }
    }
  ]
}